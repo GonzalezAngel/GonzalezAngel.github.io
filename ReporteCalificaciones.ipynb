{
  "nbformat": 4,
  "nbformat_minor": 0,
  "metadata": {
    "colab": {
      "provenance": [],
      "mount_file_id": "1LcRABgJ4kSQTueR3xPwhDl9V7kusWzPV",
      "authorship_tag": "ABX9TyPnmndeB6crulAe5QpBkML7",
      "include_colab_link": true
    },
    "kernelspec": {
      "name": "python3",
      "display_name": "Python 3"
    },
    "language_info": {
      "name": "python"
    },
    "accelerator": "GPU"
  },
  "cells": [
    {
      "cell_type": "markdown",
      "metadata": {
        "id": "view-in-github",
        "colab_type": "text"
      },
      "source": [
        "<a href=\"https://colab.research.google.com/github/GonzalezAngel/GonzalezAngel.github.io/blob/master/ReporteCalificaciones.ipynb\" target=\"_parent\"><img src=\"https://colab.research.google.com/assets/colab-badge.svg\" alt=\"Open In Colab\"/></a>"
      ]
    },
    {
      "cell_type": "code",
      "execution_count": 1,
      "metadata": {
        "id": "uxKOy80YLTsI"
      },
      "outputs": [],
      "source": [
        "path='/content/drive/Othercomputers/Mi portátil/Ayudantías/Álgebra Lineal I/2023-1'"
      ]
    },
    {
      "cell_type": "code",
      "source": [
        "import pandas as pd\n",
        "import gapandas as gp\n",
        "from gilfoyle import report"
      ],
      "metadata": {
        "id": "O6Ho_rK6MIe7"
      },
      "execution_count": 12,
      "outputs": []
    },
    {
      "cell_type": "code",
      "source": [],
      "metadata": {
        "id": "c039n5SfMGTf"
      },
      "execution_count": null,
      "outputs": []
    }
  ]
}